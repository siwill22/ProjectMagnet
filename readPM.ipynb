{
 "cells": [
  {
   "cell_type": "code",
   "execution_count": null,
   "id": "4ce0aaaa-0eec-4129-add7-cc238b4442e3",
   "metadata": {
    "tags": []
   },
   "outputs": [],
   "source": [
    "import pandas as pd\n",
    "import matplotlib.pyplot as plt\n",
    "import os\n",
    "\n",
    "\n",
    "# Define the column names, start points, end points, column types, and number of decimal places\n",
    "columns_lo_alt = [\n",
    "    ('blank', 1, 1, 'char', 0),\n",
    "    ('flight_num', 2, 8, 'char', 0),\n",
    "    ('blank', 9, 15, 'char', 0),\n",
    "    ('date_YY.YYY', 16, 19, 'long', 3),\n",
    "    ('colatitude', 20, 23, 'long', 3),\n",
    "    ('longitude', 24, 27, 'long', 3),\n",
    "    ('mag_declination_calc_deg', 28, 31, 'long', 3),\n",
    "    ('mag_inclination_calc_deg', 32, 35, 'long', 3),\n",
    "    ('mag_horizontal_intensity_calc_nT', 36, 39, 'long', 0),\n",
    "    ('mag_north_component_obs_nT', 40, 43, 'long', 0),\n",
    "    ('mag_east_component_obs_nT', 44, 47, 'long', 0),\n",
    "    ('mag_vertical_intensity_obs_nT', 48, 51, 'long', 0),\n",
    "    ('mag_total_intensity_obs_nT', 52, 55, 'long', 0),\n",
    "    ('alt_radar_m', 56, 59, 'long', 0),\n",
    "    ('data_collection_code', 60, 61, 'short', 0),\n",
    "    ('source_id', 62, 65, 'long', 0),\n",
    "    ('serial_num', 66, 69, 'long', 0),\n",
    "    ('mag_element_code', 70, 76, 'char', 0),\n",
    "    ('time_gmt_HHMM', 77, 80, 'long', 0),\n",
    "    ('country_code', 81, 84, 'long', 0)\n",
    "]\n",
    "\n",
    "\n",
    "columns_hi_lat = [\n",
    "    ('time_gmt_sec', 1, 4, 'long', 4),\n",
    "    ('latitude', 5, 8, 'long', 4),\n",
    "    ('longitude', 9, 12, 'long', 4),\n",
    "    ('mag_east_component_obs_nT', 13, 16, 'long', 0),\n",
    "    ('mag_north_component_obs_nT', 17, 20, 'long', 0),\n",
    "    ('mag_horizontal_intensity_calc_nT', 21, 24, 'long', 0),\n",
    "    ('mag_vertical_intensity_obs_nT', 25, 28, 'long', 0),\n",
    "    ('mag_total_intensity_calc_nT', 29, 32, 'long', 0),\n",
    "    ('mag_declination_calc_deg', 33, 36, 'long', 4),\n",
    "    ('mag_inclination_calc_deg', 37, 40, 'long', 4),\n",
    "    ('mag_total_intensity_obs_nT', 41, 44, 'long', 0),\n",
    "    ('alt_barometric_ft', 45, 48, 'long', 0)\n",
    "]\n",
    "\n",
    "\n",
    "\n",
    "# Read the file into a DataFrame\n",
    "def read_binary_file(filename, columns):\n",
    "    data = []\n",
    "    with open(filename, 'rb') as f:\n",
    "        # Skip the header\n",
    "        f.seek(128)\n",
    "        \n",
    "        while True:\n",
    "            record = []\n",
    "            for name, start, end, data_type, decimal_places in columns:\n",
    "                if data_type == \"char\":\n",
    "                    value = f.read(end - start + 1).decode(\"utf-8\").strip()\n",
    "                elif data_type == \"short\":\n",
    "                    value = int.from_bytes(f.read(2), byteorder='little')\n",
    "                elif data_type == \"long\":\n",
    "                    value = int.from_bytes(f.read(4), byteorder='little')\n",
    "                    if decimal_places > 0:\n",
    "                        value /= 10 ** decimal_places\n",
    "                record.append(value)\n",
    "                        \n",
    "            if record[2]=='':\n",
    "                break\n",
    "            else:\n",
    "                data.append(record)\n",
    "\n",
    "    return pd.DataFrame(data, columns=[column[0] for column in columns])\n",
    "\n",
    "\n"
   ]
  },
  {
   "cell_type": "code",
   "execution_count": null,
   "id": "8e7949ad-f897-41ca-9e48-bcfd05b77f46",
   "metadata": {
    "tags": []
   },
   "outputs": [],
   "source": [
    "directory = '/Users/simon/Data/ProjectMagnet/geomag/cdroms/Project_Magnet/lo_alt/pm_53_70'\n",
    "\n",
    "bin_files = [filename for filename in os.listdir(directory) if filename.endswith('.bin')]\n",
    "\n",
    "#print(bin_files)\n",
    "\n",
    "df_list = []\n",
    "\n",
    "fig,ax = plt.subplots()\n",
    "for filename in bin_files: \n",
    "    file_path = '{:s}/{:s}'.format(directory, filename)\n",
    "    df = read_binary_file(file_path, columns_lo_alt)\n",
    "    ax.plot(df.longitude, 90.-df.colatitude, '.')\n",
    "    \n",
    "    df_list.append(df)\n",
    "\n",
    "plt.show()\n"
   ]
  },
  {
   "cell_type": "code",
   "execution_count": null,
   "id": "3e15270c-1141-4121-b511-09bf06271c2e",
   "metadata": {},
   "outputs": [],
   "source": [
    "df_lo_alt = pd.concat(df_list)\n",
    "\n",
    "df_lo_alt.columns"
   ]
  },
  {
   "cell_type": "code",
   "execution_count": null,
   "id": "1beea6c3-0024-48a0-9880-1718c177cd75",
   "metadata": {
    "tags": []
   },
   "outputs": [],
   "source": [
    "df_lo_alt.mag_total_intensity_obs_nT.hist(bins=50)\n"
   ]
  },
  {
   "cell_type": "code",
   "execution_count": null,
   "id": "126dc55b-4c5a-4d26-8b3b-773c661ad197",
   "metadata": {},
   "outputs": [],
   "source": []
  }
 ],
 "metadata": {
  "kernelspec": {
   "display_name": "Python [conda env:pygmt10]",
   "language": "python",
   "name": "conda-env-pygmt10-py"
  },
  "language_info": {
   "codemirror_mode": {
    "name": "ipython",
    "version": 3
   },
   "file_extension": ".py",
   "mimetype": "text/x-python",
   "name": "python",
   "nbconvert_exporter": "python",
   "pygments_lexer": "ipython3",
   "version": "3.10.13"
  }
 },
 "nbformat": 4,
 "nbformat_minor": 5
}
